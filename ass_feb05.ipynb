{
 "cells": [
  {
   "cell_type": "markdown",
   "metadata": {},
   "source": [
    "Q1. Explain Class and Object with respect to Object-Oriented Programming. Give a suitable example."
   ]
  },
  {
   "cell_type": "markdown",
   "metadata": {},
   "source": [
    "In object-oriented programming (OOP), a class is a blueprint or template for creating objects, and an object is an instance of a class. Classes provide a way to encapsulate data and behavior into a single unit, promoting modularity and reusability in code. Objects, on the other hand, are instances of these classes and represent concrete entities in a program.\n",
    "\n",
    "Here's a simple explanation using an example in Python:"
   ]
  },
  {
   "cell_type": "code",
   "execution_count": 1,
   "metadata": {},
   "outputs": [],
   "source": [
    "class Car:\n",
    "    category = \"Vehicle\"\n",
    "\n",
    "    # Constructor method to initialize object attributes\n",
    "    def __init__(self, make, model):\n",
    "        # Instance attributes\n",
    "        self.make = make\n",
    "        self.model = model\n",
    "        self.speed = 0 \n",
    "    def display_info(self):\n",
    "        print(f\"{self.make} {self.model} - Category: {self.category}, Speed: {self.speed} km/h\")\n",
    "    def accelerate(self, speed_increase):\n",
    "        self.speed += speed_increase\n",
    "        print(f\"{self.make} {self.model} is accelerating. New speed: {self.speed} km/h\")\n",
    "\n",
    "# Create objects (instances) of the Car class\n",
    "car1 = Car(\"Toyota\", \"Camry\")\n",
    "car2 = Car(\"Honda\", \"Civic\")"
   ]
  },
  {
   "cell_type": "markdown",
   "metadata": {},
   "source": [
    "Q2. Name the four pillars of OOPs."
   ]
  },
  {
   "cell_type": "markdown",
   "metadata": {},
   "source": [
    "The four pillars of object-oriented programming (OOP) are:\n",
    "\n",
    "1. Encapsulation:\n",
    "   - Encapsulation refers to the bundling of data (attributes) and the methods (functions) that operate on the data into a single unit, known as a class.\n",
    "   - It helps in hiding the internal details of an object and exposing only what is necessary, promoting information hiding and reducing complexity.\n",
    "\n",
    "2. Inheritance:\n",
    "   - Inheritance is a mechanism that allows a new class (subclass or derived class) to inherit the properties and behaviors of an existing class (base class or parent class).\n",
    "   - It promotes code reuse, extensibility, and the creation of a hierarchical structure among classes.\n",
    "\n",
    "3. Polymorphism:\n",
    "   - Polymorphism allows objects of different classes to be treated as objects of a common base class.\n",
    "   - It enables a single interface to represent different types or forms. There are two types of polymorphism: compile-time (method overloading) and runtime (method overriding).\n",
    "\n",
    "4. Abstraction:\n",
    "   - Abstraction involves simplifying complex systems by modeling classes based on the essential properties and behaviors they share.\n",
    "   - It allows the creation of abstract classes and interfaces that define the structure and common behavior of related classes without providing a complete implementation.\n",
    "   - Abstraction helps in managing complexity and focusing on essential features while ignoring unnecessary details."
   ]
  },
  {
   "cell_type": "markdown",
   "metadata": {},
   "source": [
    "Q3. Explain why the __init__() function is used. Give a suitable example."
   ]
  },
  {
   "cell_type": "markdown",
   "metadata": {},
   "source": [
    "The __init__() function in Python is a special method, also known as a constructor, that is automatically called when an object is created from a class. Example:"
   ]
  },
  {
   "cell_type": "code",
   "execution_count": 2,
   "metadata": {},
   "outputs": [
    {
     "name": "stdout",
     "output_type": "stream",
     "text": [
      "Buddy is 3 years old.\n",
      "Max is 5 years old.\n",
      "Buddy says Woof!\n",
      "Max says Woof!\n"
     ]
    }
   ],
   "source": [
    "class Dog:\n",
    "    # Constructor (__init__) method\n",
    "    def __init__(self, name, age):\n",
    "        # Instance attributes\n",
    "        self.name = name\n",
    "        self.age = age\n",
    "        self.energy_level = 100  # Default energy level when a dog is created\n",
    "\n",
    "    # Instance method\n",
    "    def bark(self):\n",
    "        print(f\"{self.name} says Woof!\")\n",
    "\n",
    "# Creating objects (instances) of the Dog class\n",
    "dog1 = Dog(\"Buddy\", 3)\n",
    "dog2 = Dog(\"Max\", 5)\n",
    "\n",
    "# Accessing attributes and calling methods\n",
    "print(f\"{dog1.name} is {dog1.age} years old.\")\n",
    "print(f\"{dog2.name} is {dog2.age} years old.\")\n",
    "\n",
    "dog1.bark()  \n",
    "dog2.bark() \n"
   ]
  },
  {
   "cell_type": "markdown",
   "metadata": {},
   "source": [
    "In this example, the __init__() method initializes the name, age, and energy_level attributes of the Dog class when an object is created. The Dog class has an additional method (bark) that can be called on each instance of the class.\n",
    "\n",
    "Using __init__ ensures that the necessary setup is done when creating objects, allowing you to provide initial values for the object's attributes. This helps in maintaining a consistent state for objects and allows for more controlled object creation and initialization."
   ]
  },
  {
   "cell_type": "markdown",
   "metadata": {},
   "source": [
    "Q4. Why self is used in OOPs?"
   ]
  },
  {
   "cell_type": "markdown",
   "metadata": {},
   "source": [
    "'self' refers to the instance of the class, allowing methods to access and modify the attributes of that specific instance.\n",
    "Without 'self', there would be no way for an instance method to differentiate between the attributes of different instances."
   ]
  },
  {
   "cell_type": "markdown",
   "metadata": {},
   "source": [
    "Q5. What is inheritance? Give an example for each type of inheritance."
   ]
  },
  {
   "cell_type": "markdown",
   "metadata": {},
   "source": [
    "\n",
    "Inheritance is one of the fundamental concepts in object-oriented programming (OOP) that allows a new class to inherit the characteristics (attributes and methods) of an existing class. The class that is being inherited from is called the base class, parent class, or superclass, and the class that inherits from it is called the derived class, child class, or subclass.\n",
    "\n",
    "There are different types of inheritance, including single inheritance, multiple inheritance, multilevel inheritance, and hierarchical inheritance. Here's an example for each type:"
   ]
  },
  {
   "cell_type": "code",
   "execution_count": 5,
   "metadata": {},
   "outputs": [
    {
     "name": "stdout",
     "output_type": "stream",
     "text": [
      "Animal speaks\n",
      "Dog barks\n"
     ]
    }
   ],
   "source": [
    "# Single Inheritance Example\n",
    "class Animal:\n",
    "    def speak(self):\n",
    "        print(\"Animal speaks\")\n",
    "\n",
    "class Dog(Animal):  # Dog is a subclass of Animal\n",
    "    def bark(self):\n",
    "        print(\"Dog barks\")\n",
    "\n",
    "# Creating an instance of Dog\n",
    "my_dog = Dog()\n",
    "\n",
    "# Accessing methods from both base class and derived class\n",
    "my_dog.speak()  \n",
    "my_dog.bark()   \n"
   ]
  },
  {
   "cell_type": "code",
   "execution_count": 6,
   "metadata": {},
   "outputs": [
    {
     "name": "stdout",
     "output_type": "stream",
     "text": [
      "Can fly\n",
      "Can swim\n"
     ]
    }
   ],
   "source": [
    "# Multiple Inheritance Example\n",
    "class Flyable:\n",
    "    def fly(self):\n",
    "        print(\"Can fly\")\n",
    "\n",
    "class Swimmable:\n",
    "    def swim(self):\n",
    "        print(\"Can swim\")\n",
    "\n",
    "class FlyingFish(Flyable, Swimmable):  # FlyingFish inherits from both Flyable and Swimmable\n",
    "    pass\n",
    "\n",
    "# Creating an instance of FlyingFish\n",
    "fish = FlyingFish()\n",
    "\n",
    "# Accessing methods from both base classes\n",
    "fish.fly()   \n",
    "fish.swim()  \n"
   ]
  },
  {
   "cell_type": "code",
   "execution_count": 7,
   "metadata": {},
   "outputs": [
    {
     "name": "stdout",
     "output_type": "stream",
     "text": [
      "Vehicle started\n",
      "Car is being driven\n",
      "Electric car is charging\n"
     ]
    }
   ],
   "source": [
    "# Multilevel Inheritance Example\n",
    "class Vehicle:\n",
    "    def start(self):\n",
    "        print(\"Vehicle started\")\n",
    "\n",
    "class Car(Vehicle):\n",
    "    def drive(self):\n",
    "        print(\"Car is being driven\")\n",
    "\n",
    "class ElectricCar(Car):  # ElectricCar inherits from Car, which in turn inherits from Vehicle\n",
    "    def charge(self):\n",
    "        print(\"Electric car is charging\")\n",
    "\n",
    "# Creating an instance of ElectricCar\n",
    "my_electric_car = ElectricCar()\n",
    "\n",
    "# Accessing methods from all levels of the hierarchy\n",
    "my_electric_car.start()  \n",
    "my_electric_car.drive()  \n",
    "my_electric_car.charge() \n"
   ]
  },
  {
   "cell_type": "code",
   "execution_count": 8,
   "metadata": {},
   "outputs": [
    {
     "name": "stdout",
     "output_type": "stream",
     "text": [
      "Drawing shape\n",
      "Drawing circle\n",
      "Drawing shape\n",
      "Drawing square\n"
     ]
    }
   ],
   "source": [
    "# Hierarchical Inheritance Example\n",
    "class Shape:\n",
    "    def draw(self):\n",
    "        print(\"Drawing shape\")\n",
    "\n",
    "class Circle(Shape):\n",
    "    def draw_circle(self):\n",
    "        print(\"Drawing circle\")\n",
    "\n",
    "class Square(Shape):\n",
    "    def draw_square(self):\n",
    "        print(\"Drawing square\")\n",
    "\n",
    "# Creating instances of Circle and Square\n",
    "circle = Circle()\n",
    "square = Square()\n",
    "\n",
    "# Accessing methods from the common base class\n",
    "circle.draw()       \n",
    "circle.draw_circle() \n",
    "\n",
    "square.draw()        \n",
    "square.draw_square()  \n"
   ]
  },
  {
   "cell_type": "code",
   "execution_count": null,
   "metadata": {},
   "outputs": [],
   "source": []
  }
 ],
 "metadata": {
  "kernelspec": {
   "display_name": "Python 3",
   "language": "python",
   "name": "python3"
  },
  "language_info": {
   "codemirror_mode": {
    "name": "ipython",
    "version": 3
   },
   "file_extension": ".py",
   "mimetype": "text/x-python",
   "name": "python",
   "nbconvert_exporter": "python",
   "pygments_lexer": "ipython3",
   "version": "3.10.4"
  }
 },
 "nbformat": 4,
 "nbformat_minor": 2
}
